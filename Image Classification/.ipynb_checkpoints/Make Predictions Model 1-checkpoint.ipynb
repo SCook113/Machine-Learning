{
 "cells": [
  {
   "cell_type": "code",
   "execution_count": 1,
   "metadata": {},
   "outputs": [
    {
     "name": "stderr",
     "output_type": "stream",
     "text": [
      "Using TensorFlow backend.\n"
     ]
    }
   ],
   "source": [
    "import os\n",
    "import numpy as np\n",
    "import pandas as pd\n",
    "from sklearn.metrics import classification_report\n",
    "from keras.models import load_model\n",
    "from keras.preprocessing.image import ImageDataGenerator, array_to_img, img_to_array, load_img"
   ]
  },
  {
   "cell_type": "code",
   "execution_count": null,
   "metadata": {},
   "outputs": [],
   "source": [
    "dir_list = ['data/test/shoe', 'data/test/no_shoe']\n",
    "\n",
    "for dir in dir_list:\n",
    "    i = 1\n",
    "    try:\n",
    "        for filename in os.listdir(dir): \n",
    "            dst = 'pic' + '_' + str(i) + \".jpg\"\n",
    "            src = dir + '/' + filename \n",
    "            dst = dir + '/' + dst \n",
    "\n",
    "            # rename() function will \n",
    "            # rename all the files \n",
    "            os.rename(src, dst) \n",
    "            os.remove(src)\n",
    "            print( \"Moved \"+ str(i) )\n",
    "            i += 1\n",
    "    except Exception as e:\n",
    "        print(e)\n",
    "    finally:\n",
    "        continue"
   ]
  },
  {
   "cell_type": "code",
   "execution_count": 3,
   "metadata": {},
   "outputs": [],
   "source": [
    "model = load_model('model.h5')"
   ]
  },
  {
   "cell_type": "code",
   "execution_count": null,
   "metadata": {
    "scrolled": true
   },
   "outputs": [
    {
     "name": "stdout",
     "output_type": "stream",
     "text": [
      "Found 153 images belonging to 2 classes.\n",
      "45/50 [==========================>...] - ETA: 5s"
     ]
    }
   ],
   "source": [
    "datagen = ImageDataGenerator(rescale=1./255)\n",
    "generator = datagen.flow_from_directory(\n",
    "        'data/test',\n",
    "        target_size=(300, 300),\n",
    "        batch_size=10,\n",
    "        shuffle=False)  # keep data in same order as labels\n",
    "\n",
    "probabilities= model.predict_generator(generator,50,  verbose=1)"
   ]
  },
  {
   "cell_type": "code",
   "execution_count": null,
   "metadata": {},
   "outputs": [],
   "source": [
    "mapped_preds = np.array(list(zip(probabilities.flatten(),np.asarray(generator.filenames))))\n",
    "mapped_preds_list = mapped_preds.tolist()\n",
    "# mapped_preds_list"
   ]
  },
  {
   "cell_type": "code",
   "execution_count": null,
   "metadata": {},
   "outputs": [],
   "source": [
    "def map_correct(prediction_touple):\n",
    "    if float(prediction_touple[0]) < 0.5:\n",
    "        prediction = 0\n",
    "    else:\n",
    "        prediction = 1\n",
    "    \n",
    "    if prediction_touple[1][0] == 's':\n",
    "        correct_pred = 1\n",
    "    else:\n",
    "        correct_pred = 0\n",
    "    \n",
    "    return list([prediction, correct_pred, prediction_touple[1], prediction_touple[0]])"
   ]
  },
  {
   "cell_type": "code",
   "execution_count": null,
   "metadata": {},
   "outputs": [],
   "source": [
    "list_for_df = list(map(map_correct, mapped_preds_list))\n",
    "evaluation_df = pd.DataFrame(list_for_df, columns = ['prediction' , 'correct label', 'file name', 'predicted probability']) \n",
    "# evaluation_df"
   ]
  },
  {
   "cell_type": "code",
   "execution_count": null,
   "metadata": {},
   "outputs": [],
   "source": [
    "print(classification_report(evaluation_df['correct label'], evaluation_df['prediction']))"
   ]
  },
  {
   "cell_type": "code",
   "execution_count": null,
   "metadata": {
    "scrolled": false
   },
   "outputs": [],
   "source": [
    "evaluation_df"
   ]
  }
 ],
 "metadata": {
  "kernelspec": {
   "display_name": "Python [conda env:TFEnv] *",
   "language": "python",
   "name": "conda-env-TFEnv-py"
  },
  "language_info": {
   "codemirror_mode": {
    "name": "ipython",
    "version": 3
   },
   "file_extension": ".py",
   "mimetype": "text/x-python",
   "name": "python",
   "nbconvert_exporter": "python",
   "pygments_lexer": "ipython3",
   "version": "3.6.8"
  }
 },
 "nbformat": 4,
 "nbformat_minor": 2
}
