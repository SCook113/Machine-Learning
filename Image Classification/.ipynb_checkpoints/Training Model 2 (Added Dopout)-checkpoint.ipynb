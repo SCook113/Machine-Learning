{
 "cells": [
  {
   "cell_type": "markdown",
   "metadata": {},
   "source": [
    "## This is a second model I trained on the same data, but I added Dropout this time and was curious if there would be a significant difference in performance\n",
    "\n",
    "## Update: In retrospect this was a bad idea since I had already implemented dropout, so this woulnd't have been neccessary"
   ]
  },
  {
   "cell_type": "code",
   "execution_count": 1,
   "metadata": {},
   "outputs": [
    {
     "name": "stderr",
     "output_type": "stream",
     "text": [
      "Using TensorFlow backend.\n"
     ]
    }
   ],
   "source": [
    "from PIL import Image # used for loading images\n",
    "import numpy as np\n",
    "import os # used for navigating to image path\n",
    "import matplotlib.pyplot as plt\n",
    "import cv2\n",
    "from tensorflow import keras\n",
    "from keras.models import Sequential\n",
    "from keras.layers import Dense, Dropout, MaxPooling2D, Conv2D\n",
    "from keras.layers import Dense, Dropout, Flatten, Activation, BatchNormalization, regularizers\n",
    "from keras.preprocessing.image import ImageDataGenerator, array_to_img, img_to_array, load_img\n",
    "from keras.callbacks import ModelCheckpoint"
   ]
  },
  {
   "cell_type": "markdown",
   "metadata": {},
   "source": [
    "https://blog.keras.io/building-powerful-image-classification-models-using-very-little-data.html"
   ]
  },
  {
   "cell_type": "code",
   "execution_count": 2,
   "metadata": {},
   "outputs": [],
   "source": [
    "datagen = ImageDataGenerator(\n",
    "        rotation_range=40,\n",
    "        width_shift_range=0.2,\n",
    "        height_shift_range=0.2,\n",
    "        rescale=1./255,\n",
    "        shear_range=0.2,\n",
    "        zoom_range=0.2,\n",
    "        horizontal_flip=True,\n",
    "        vertical_flip=True,\n",
    "        fill_mode='nearest')\n"
   ]
  },
  {
   "cell_type": "code",
   "execution_count": 3,
   "metadata": {},
   "outputs": [
    {
     "name": "stdout",
     "output_type": "stream",
     "text": [
      "Found 4927 images belonging to 2 classes.\n",
      "Found 542 images belonging to 2 classes.\n"
     ]
    }
   ],
   "source": [
    "batch_size = 16\n",
    "\n",
    "# this is the augmentation configuration we will use for training\n",
    "train_datagen = ImageDataGenerator(\n",
    "        rescale=1./255,\n",
    "        shear_range=0.2,\n",
    "        zoom_range=0.2,\n",
    "        horizontal_flip=True,\n",
    "        vertical_flip=True,\n",
    "        fill_mode='nearest')\n",
    "\n",
    "# this is the augmentation configuration we will use for testing:\n",
    "# only rescaling\n",
    "test_datagen = ImageDataGenerator(rescale=1./255)\n",
    "\n",
    "# this is a generator that will read pictures found in\n",
    "# subfolers of 'data/train', and indefinitely generate\n",
    "# batches of augmented image data\n",
    "train_generator = train_datagen.flow_from_directory(\n",
    "        'data/train',  # this is the target directory\n",
    "        target_size=(300, 300),\n",
    "        batch_size=batch_size,\n",
    "        class_mode='binary')  # since we use binary_crossentropy loss, we need binary labels\n",
    "\n",
    "# this is a similar generator, for validation data\n",
    "validation_generator = test_datagen.flow_from_directory(\n",
    "        'data/validation',\n",
    "        target_size=(300, 300),\n",
    "        batch_size=batch_size,\n",
    "        class_mode='binary')"
   ]
  },
  {
   "cell_type": "code",
   "execution_count": 4,
   "metadata": {},
   "outputs": [],
   "source": [
    "model = Sequential()\n",
    "model.add(Conv2D(32, kernel_size = (3, 3), activation='relu', input_shape=(300, 300, 3)))\n",
    "model.add(MaxPooling2D(pool_size=(2,2)))\n",
    "model.add(BatchNormalization())\n",
    "model.add(Dropout(0.2))\n",
    "model.add(Conv2D(64, kernel_size=(3,3), activation='relu'))\n",
    "model.add(MaxPooling2D(pool_size=(2,2)))\n",
    "model.add(BatchNormalization())\n",
    "model.add(Dropout(0.2))\n",
    "model.add(Conv2D(64, kernel_size=(3,3), activation='relu'))\n",
    "model.add(MaxPooling2D(pool_size=(2,2)))\n",
    "model.add(BatchNormalization())\n",
    "model.add(Dropout(0.2))\n",
    "model.add(Conv2D(96, kernel_size=(3,3), activation='relu'))\n",
    "model.add(MaxPooling2D(pool_size=(2,2)))\n",
    "model.add(BatchNormalization())\n",
    "model.add(Dropout(0.2))\n",
    "model.add(Conv2D(32, kernel_size=(3,3), activation='relu'))\n",
    "model.add(MaxPooling2D(pool_size=(2,2)))\n",
    "model.add(BatchNormalization())\n",
    "model.add(Dropout(0.2))\n",
    "model.add(Flatten())\n",
    "model.add(Dense(128, activation='relu'))\n",
    "model.add(Dropout(0.3))\n",
    "model.add(Dense(1, activation = 'sigmoid'))\n",
    "\n",
    "model.compile(loss='binary_crossentropy',\n",
    "              optimizer='rmsprop',\n",
    "              metrics=['accuracy'])\n",
    "\n",
    "filepath=\"weights-improvement-{epoch:02d}-{val_acc:.2f}.hdf5\"\n",
    "checkpoint = ModelCheckpoint(filepath, monitor='val_acc', verbose=1, save_best_only=True, mode='max')\n",
    "callbacks_list = [checkpoint]"
   ]
  },
  {
   "cell_type": "code",
   "execution_count": 5,
   "metadata": {
    "scrolled": true
   },
   "outputs": [
    {
     "name": "stdout",
     "output_type": "stream",
     "text": [
      "Epoch 1/50\n",
      "125/125 [==============================] - 1093s 9s/step - loss: 0.6338 - acc: 0.7685 - val_loss: 1.1184 - val_acc: 0.7231\n",
      "\n",
      "Epoch 00001: val_acc improved from -inf to 0.72306, saving model to models/weights-improvement-01-0.72.hdf5\n",
      "Epoch 2/50\n",
      "125/125 [==============================] - 1035s 8s/step - loss: 0.5552 - acc: 0.7930 - val_loss: 0.8349 - val_acc: 0.6178\n",
      "\n",
      "Epoch 00002: val_acc did not improve from 0.72306\n",
      "Epoch 3/50\n",
      "125/125 [==============================] - 992s 8s/step - loss: 0.5540 - acc: 0.7934 - val_loss: 3.2474 - val_acc: 0.5226\n",
      "\n",
      "Epoch 00003: val_acc did not improve from 0.72306\n",
      "Epoch 4/50\n",
      "125/125 [==============================] - 994s 8s/step - loss: 0.4777 - acc: 0.8340 - val_loss: 0.4439 - val_acc: 0.8258\n",
      "\n",
      "Epoch 00004: val_acc improved from 0.72306 to 0.82581, saving model to models/weights-improvement-04-0.83.hdf5\n",
      "Epoch 5/50\n",
      "125/125 [==============================] - 991s 8s/step - loss: 0.4145 - acc: 0.8460 - val_loss: 0.9943 - val_acc: 0.5063\n",
      "\n",
      "Epoch 00005: val_acc did not improve from 0.82581\n",
      "Epoch 6/50\n",
      "125/125 [==============================] - 992s 8s/step - loss: 0.3577 - acc: 0.8690 - val_loss: 0.9563 - val_acc: 0.7895\n",
      "\n",
      "Epoch 00006: val_acc did not improve from 0.82581\n",
      "Epoch 7/50\n",
      "125/125 [==============================] - 994s 8s/step - loss: 0.4128 - acc: 0.8365 - val_loss: 0.3755 - val_acc: 0.8505\n",
      "\n",
      "Epoch 00007: val_acc improved from 0.82581 to 0.85050, saving model to models/weights-improvement-07-0.85.hdf5\n",
      "Epoch 8/50\n",
      "125/125 [==============================] - 990s 8s/step - loss: 0.3645 - acc: 0.8605 - val_loss: 0.6596 - val_acc: 0.8170\n",
      "\n",
      "Epoch 00008: val_acc did not improve from 0.85050\n",
      "Epoch 9/50\n",
      "125/125 [==============================] - 992s 8s/step - loss: 0.3355 - acc: 0.8655 - val_loss: 0.4341 - val_acc: 0.8832\n",
      "\n",
      "Epoch 00009: val_acc improved from 0.85050 to 0.88317, saving model to models/weights-improvement-09-0.88.hdf5\n",
      "Epoch 10/50\n",
      "125/125 [==============================] - 994s 8s/step - loss: 0.3366 - acc: 0.8780 - val_loss: 1.0153 - val_acc: 0.5501\n",
      "\n",
      "Epoch 00010: val_acc did not improve from 0.88317\n",
      "Epoch 11/50\n",
      "125/125 [==============================] - 991s 8s/step - loss: 0.3013 - acc: 0.8815 - val_loss: 0.3371 - val_acc: 0.8719\n",
      "\n",
      "Epoch 00011: val_acc did not improve from 0.88317\n",
      "Epoch 12/50\n",
      "125/125 [==============================] - 992s 8s/step - loss: 0.3065 - acc: 0.8835 - val_loss: 0.9146 - val_acc: 0.5539\n",
      "\n",
      "Epoch 00012: val_acc did not improve from 0.88317\n",
      "Epoch 13/50\n",
      "125/125 [==============================] - 989s 8s/step - loss: 0.2873 - acc: 0.8895 - val_loss: 0.4614 - val_acc: 0.7601\n",
      "\n",
      "Epoch 00013: val_acc did not improve from 0.88317\n",
      "Epoch 14/50\n",
      "125/125 [==============================] - 993s 8s/step - loss: 0.2955 - acc: 0.8885 - val_loss: 0.2013 - val_acc: 0.9311\n",
      "\n",
      "Epoch 00014: val_acc improved from 0.88317 to 0.93108, saving model to models/weights-improvement-14-0.93.hdf5\n",
      "Epoch 15/50\n",
      "125/125 [==============================] - 989s 8s/step - loss: 0.2732 - acc: 0.9010 - val_loss: 0.8218 - val_acc: 0.5842\n",
      "\n",
      "Epoch 00015: val_acc did not improve from 0.93108\n",
      "Epoch 16/50\n",
      "125/125 [==============================] - 992s 8s/step - loss: 0.2649 - acc: 0.9010 - val_loss: 0.2910 - val_acc: 0.8972\n",
      "\n",
      "Epoch 00016: val_acc did not improve from 0.93108\n",
      "Epoch 17/50\n",
      "125/125 [==============================] - 994s 8s/step - loss: 0.2737 - acc: 0.9035 - val_loss: 1.4003 - val_acc: 0.5616\n",
      "\n",
      "Epoch 00017: val_acc did not improve from 0.93108\n",
      "Epoch 18/50\n",
      "125/125 [==============================] - 990s 8s/step - loss: 0.2791 - acc: 0.8939 - val_loss: 0.2581 - val_acc: 0.9198\n",
      "\n",
      "Epoch 00018: val_acc did not improve from 0.93108\n",
      "Epoch 19/50\n",
      "125/125 [==============================] - 990s 8s/step - loss: 0.2484 - acc: 0.9050 - val_loss: 0.1979 - val_acc: 0.9261\n",
      "\n",
      "Epoch 00019: val_acc did not improve from 0.93108\n",
      "Epoch 20/50\n",
      "125/125 [==============================] - 987s 8s/step - loss: 0.2587 - acc: 0.9024 - val_loss: 0.2070 - val_acc: 0.9221\n",
      "\n",
      "Epoch 00020: val_acc did not improve from 0.93108\n",
      "Epoch 21/50\n",
      "125/125 [==============================] - 995s 8s/step - loss: 0.2442 - acc: 0.9080 - val_loss: 0.2926 - val_acc: 0.9098\n",
      "\n",
      "Epoch 00021: val_acc did not improve from 0.93108\n",
      "Epoch 22/50\n",
      "125/125 [==============================] - 992s 8s/step - loss: 0.2309 - acc: 0.9085 - val_loss: 0.4553 - val_acc: 0.7613\n",
      "\n",
      "Epoch 00022: val_acc did not improve from 0.93108\n",
      "Epoch 23/50\n",
      "125/125 [==============================] - 989s 8s/step - loss: 0.2472 - acc: 0.9050 - val_loss: 0.3829 - val_acc: 0.8045\n",
      "\n",
      "Epoch 00023: val_acc did not improve from 0.93108\n",
      "Epoch 24/50\n",
      "125/125 [==============================] - 993s 8s/step - loss: 0.2154 - acc: 0.9170 - val_loss: 0.2920 - val_acc: 0.8593\n",
      "\n",
      "Epoch 00024: val_acc did not improve from 0.93108\n",
      "Epoch 25/50\n",
      "125/125 [==============================] - 996s 8s/step - loss: 0.2326 - acc: 0.9180 - val_loss: 0.2228 - val_acc: 0.9135\n",
      "\n",
      "Epoch 00025: val_acc did not improve from 0.93108\n",
      "Epoch 26/50\n",
      "125/125 [==============================] - 991s 8s/step - loss: 0.2412 - acc: 0.9125 - val_loss: 0.4969 - val_acc: 0.8631\n",
      "\n",
      "Epoch 00026: val_acc did not improve from 0.93108\n",
      "Epoch 27/50\n",
      "125/125 [==============================] - 992s 8s/step - loss: 0.2218 - acc: 0.9135 - val_loss: 0.2968 - val_acc: 0.8358\n",
      "\n",
      "Epoch 00027: val_acc did not improve from 0.93108\n",
      "Epoch 28/50\n",
      "125/125 [==============================] - 992s 8s/step - loss: 0.2197 - acc: 0.9150 - val_loss: 0.3771 - val_acc: 0.8706\n",
      "\n",
      "Epoch 00028: val_acc did not improve from 0.93108\n",
      "Epoch 29/50\n",
      "125/125 [==============================] - 992s 8s/step - loss: 0.2086 - acc: 0.9240 - val_loss: 0.1494 - val_acc: 0.9474\n",
      "\n",
      "Epoch 00029: val_acc improved from 0.93108 to 0.94737, saving model to models/weights-improvement-29-0.95.hdf5\n",
      "Epoch 30/50\n",
      "125/125 [==============================] - 990s 8s/step - loss: 0.2159 - acc: 0.9195 - val_loss: 0.2229 - val_acc: 0.8995\n",
      "\n",
      "Epoch 00030: val_acc did not improve from 0.94737\n",
      "Epoch 31/50\n",
      "125/125 [==============================] - 996s 8s/step - loss: 0.2131 - acc: 0.9310 - val_loss: 0.1462 - val_acc: 0.9499\n",
      "\n",
      "Epoch 00031: val_acc improved from 0.94737 to 0.94987, saving model to models/weights-improvement-31-0.95.hdf5\n",
      "Epoch 32/50\n",
      "125/125 [==============================] - 1001s 8s/step - loss: 0.2052 - acc: 0.9140 - val_loss: 0.1936 - val_acc: 0.9334\n",
      "\n",
      "Epoch 00032: val_acc did not improve from 0.94987\n",
      "Epoch 33/50\n",
      "125/125 [==============================] - 989s 8s/step - loss: 0.2109 - acc: 0.9209 - val_loss: 0.2088 - val_acc: 0.9323\n",
      "\n",
      "Epoch 00033: val_acc did not improve from 0.94987\n",
      "Epoch 34/50\n",
      "125/125 [==============================] - 1039s 8s/step - loss: 0.1879 - acc: 0.9270 - val_loss: 0.1425 - val_acc: 0.9410\n",
      "\n",
      "Epoch 00034: val_acc did not improve from 0.94987\n",
      "Epoch 35/50\n",
      "125/125 [==============================] - 1142s 9s/step - loss: 0.1933 - acc: 0.9264 - val_loss: 0.1642 - val_acc: 0.9411\n",
      "\n",
      "Epoch 00035: val_acc did not improve from 0.94987\n",
      "Epoch 36/50\n",
      "125/125 [==============================] - 990s 8s/step - loss: 0.1962 - acc: 0.9320 - val_loss: 0.1573 - val_acc: 0.9373\n",
      "\n",
      "Epoch 00036: val_acc did not improve from 0.94987\n",
      "Epoch 37/50\n",
      "125/125 [==============================] - 1007s 8s/step - loss: 0.1899 - acc: 0.9310 - val_loss: 0.1150 - val_acc: 0.9535\n",
      "\n",
      "Epoch 00037: val_acc improved from 0.94987 to 0.95352, saving model to models/weights-improvement-37-0.95.hdf5\n",
      "Epoch 38/50\n",
      "125/125 [==============================] - 1058s 8s/step - loss: 0.1959 - acc: 0.9270 - val_loss: 0.1974 - val_acc: 0.9348\n",
      "\n",
      "Epoch 00038: val_acc did not improve from 0.95352\n",
      "Epoch 39/50\n",
      "125/125 [==============================] - 999s 8s/step - loss: 0.1796 - acc: 0.9350 - val_loss: 0.1897 - val_acc: 0.9296\n",
      "\n",
      "Epoch 00039: val_acc did not improve from 0.95352\n",
      "Epoch 40/50\n",
      "125/125 [==============================] - 990s 8s/step - loss: 0.1815 - acc: 0.9319 - val_loss: 0.2085 - val_acc: 0.9348\n",
      "\n",
      "Epoch 00040: val_acc did not improve from 0.95352\n",
      "Epoch 41/50\n",
      "125/125 [==============================] - 1002s 8s/step - loss: 0.1763 - acc: 0.9370 - val_loss: 0.2257 - val_acc: 0.9309\n",
      "\n",
      "Epoch 00041: val_acc did not improve from 0.95352\n",
      "Epoch 42/50\n",
      "125/125 [==============================] - 989s 8s/step - loss: 0.1965 - acc: 0.9315 - val_loss: 0.2586 - val_acc: 0.8810\n"
     ]
    },
    {
     "name": "stdout",
     "output_type": "stream",
     "text": [
      "\n",
      "Epoch 00042: val_acc did not improve from 0.95352\n",
      "Epoch 43/50\n",
      "125/125 [==============================] - 992s 8s/step - loss: 0.1434 - acc: 0.9425 - val_loss: 0.8116 - val_acc: 0.7173\n",
      "\n",
      "Epoch 00043: val_acc did not improve from 0.95352\n",
      "Epoch 44/50\n",
      "125/125 [==============================] - 1087s 9s/step - loss: 0.1770 - acc: 0.9370 - val_loss: 0.1868 - val_acc: 0.9386\n",
      "\n",
      "Epoch 00044: val_acc did not improve from 0.95352\n",
      "Epoch 45/50\n",
      "125/125 [==============================] - 1011s 8s/step - loss: 0.1822 - acc: 0.9310 - val_loss: 0.2812 - val_acc: 0.8492\n",
      "\n",
      "Epoch 00045: val_acc did not improve from 0.95352\n",
      "Epoch 46/50\n",
      "125/125 [==============================] - 1181s 9s/step - loss: 0.1779 - acc: 0.9315 - val_loss: 0.2041 - val_acc: 0.9436\n",
      "\n",
      "Epoch 00046: val_acc did not improve from 0.95352\n",
      "Epoch 47/50\n",
      "125/125 [==============================] - 1037s 8s/step - loss: 0.1879 - acc: 0.9320 - val_loss: 0.2813 - val_acc: 0.9209\n",
      "\n",
      "Epoch 00047: val_acc did not improve from 0.95352\n",
      "Epoch 48/50\n",
      "125/125 [==============================] - 1069s 9s/step - loss: 0.1657 - acc: 0.9345 - val_loss: 0.2555 - val_acc: 0.8885\n",
      "\n",
      "Epoch 00048: val_acc did not improve from 0.95352\n",
      "Epoch 49/50\n",
      "125/125 [==============================] - 1073s 9s/step - loss: 0.1794 - acc: 0.9290 - val_loss: 0.2205 - val_acc: 0.9284\n",
      "\n",
      "Epoch 00049: val_acc did not improve from 0.95352\n",
      "Epoch 50/50\n",
      "125/125 [==============================] - 1022s 8s/step - loss: 0.1721 - acc: 0.9400 - val_loss: 0.1199 - val_acc: 0.9586\n",
      "\n",
      "Epoch 00050: val_acc improved from 0.95352 to 0.95865, saving model to models/weights-improvement-50-0.96.hdf5\n"
     ]
    }
   ],
   "source": [
    "history = model.fit_generator(\n",
    "        train_generator,\n",
    "        steps_per_epoch=2000 // batch_size,\n",
    "        epochs=50,\n",
    "        validation_data=validation_generator,\n",
    "        validation_steps=800 // batch_size,\n",
    "        callbacks=callbacks_list)\n",
    "\n",
    "model.save(\"models/model2-added-dropout.h5\")\n"
   ]
  },
  {
   "cell_type": "code",
   "execution_count": 6,
   "metadata": {},
   "outputs": [
    {
     "name": "stdout",
     "output_type": "stream",
     "text": [
      "dict_keys(['val_loss', 'val_acc', 'loss', 'acc'])\n"
     ]
    },
    {
     "data": {
      "image/png": "[encoded data removed]",
      "text/plain": [
       "<Figure size 432x288 with 1 Axes>"
      ]
     },
     "metadata": {
      "needs_background": "light"
     },
     "output_type": "display_data"
    },
    {
     "data": {
      "image/png": "[encoded data removed]",
      "text/plain": [
       "<Figure size 432x288 with 1 Axes>"
      ]
     },
     "metadata": {
      "needs_background": "light"
     },
     "output_type": "display_data"
    }
   ],
   "source": [
    "# list all data in history\n",
    "print(history.history.keys())\n",
    "# summarize history for accuracy\n",
    "plt.plot(history.history['acc'])\n",
    "plt.plot(history.history['val_acc'])\n",
    "plt.title('model accuracy')\n",
    "plt.ylabel('accuracy')\n",
    "plt.xlabel('epoch')\n",
    "plt.legend(['train', 'test'], loc='upper left')\n",
    "plt.show()\n",
    "# summarize history for loss\n",
    "plt.plot(history.history['loss'])\n",
    "plt.plot(history.history['val_loss'])\n",
    "plt.title('model loss')\n",
    "plt.ylabel('loss')\n",
    "plt.xlabel('epoch')\n",
    "plt.legend(['train', 'test'], loc='upper left')\n",
    "plt.show()"
   ]
  },
  {
   "cell_type": "code",
   "execution_count": 11,
   "metadata": {},
   "outputs": [],
   "source": [
    "'''import json\n",
    "with open('models/history.json', 'w') as f:\n",
    "    json.dump(history.history, f)"
   ]
  }
 ],
 "metadata": {
  "kernelspec": {
   "display_name": "Python [conda env:TFEnv] *",
   "language": "python",
   "name": "conda-env-TFEnv-py"
  },
  "language_info": {
   "codemirror_mode": {
    "name": "ipython",
    "version": 3
   },
   "file_extension": ".py",
   "mimetype": "text/x-python",
   "name": "python",
   "nbconvert_exporter": "python",
   "pygments_lexer": "ipython3",
   "version": "3.6.8"
  }
 },
 "nbformat": 4,
 "nbformat_minor": 2
}
