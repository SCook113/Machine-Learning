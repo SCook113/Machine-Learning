{
 "cells": [
  {
   "cell_type": "code",
   "execution_count": null,
   "metadata": {
    "scrolled": true
   },
   "outputs": [],
   "source": [
    "import os\n",
    "import numpy as np\n",
    "import matplotlib.pyplot as plt\n",
    "import matplotlib.image as mpimg\n",
    "import sys\n",
    "import cv2\n",
    "from shutil import copyfile"
   ]
  },
  {
   "cell_type": "markdown",
   "metadata": {},
   "source": [
    "In this step we take all the images and rename and reformat them all to the same size and give them a naming convention.\n",
    "\n",
    "This functions takes the images in the directory you pass in (directory_name) formats them to the size you specify and then creates a directory and places them there. "
   ]
  },
  {
   "cell_type": "code",
   "execution_count": null,
   "metadata": {
    "scrolled": true
   },
   "outputs": [],
   "source": [
    "def rename_and_reformat(directory_name, naming_prefix, width, height):\n",
    "    \n",
    "    \n",
    "    # Get names of all files\n",
    "    list_of_pics = os.listdir(directory_name)\n",
    "    \n",
    "    # Make a new directory for formatted pictures\n",
    "    new_directory = naming_prefix + \"_formatted_\" + str(width) + 'x' + str(height)\n",
    "    os.mkdir(new_directory)\n",
    "    \n",
    "    # Copy files to new directory\n",
    "    for file in list_of_pics:\n",
    "        copyfile(directory_name + '/' + file , new_directory + \"/\" + file)\n",
    "    \n",
    "    # Rename files\n",
    "    i = 1\n",
    "    for filename in os.listdir(new_directory): \n",
    "        dst = naming_prefix + '_' + str(i) + \".jpg\"\n",
    "        src = new_directory + '/' + filename \n",
    "        dst = new_directory + '/' + dst \n",
    "          \n",
    "        # rename() function will \n",
    "        # rename all the files \n",
    "        os.rename(src, dst) \n",
    "        print( \"Moved \"+ str(i) )\n",
    "        i += 1\n",
    "    \n",
    "    # Reformat pictures\n",
    "    # Delete unformatted pictures\n",
    "    j = 1\n",
    "    list_new_filenames = os.listdir(new_directory)\n",
    "    errors = 1\n",
    "    for filename in list_new_filenames:\n",
    "        try:\n",
    "            img = cv2.imread(new_directory + '/' + filename)\n",
    "            img = cv2.resize(img,(width, height))\n",
    "            cv2.imwrite(new_directory + '/' + filename[0:filename.find('.')] + '_'+ str(width) + 'x' + str(height) + 'px.jpg', img)\n",
    "        except Exception as e:\n",
    "            print('There was ' + str(errors) + ' error(s) in ' + new_directory)\n",
    "            errors += 1\n",
    "        finally:\n",
    "            os.remove(new_directory + '/' + filename)\n",
    "            print( str(j) + \" done in \" + new_directory )\n",
    "            j += 1\n",
    "    print(\"Done with \" + new_directory + \". \" + str(len(os.listdir(new_directory))) + \" pictures formatted.\")\n"
   ]
  },
  {
   "cell_type": "code",
   "execution_count": null,
   "metadata": {
    "scrolled": true
   },
   "outputs": [],
   "source": [
    "# rename_and_reformat(\"images/shoes\", \"shoes_test\", 300, 300)\n",
    "rename_and_reformat(\"images/photography\", \"photography_test\", 300, 300)"
   ]
  }
 ],
 "metadata": {
  "kernelspec": {
   "display_name": "Python [conda env:TFEnv] *",
   "language": "python",
   "name": "conda-env-TFEnv-py"
  },
  "language_info": {
   "codemirror_mode": {
    "name": "ipython",
    "version": 3
   },
   "file_extension": ".py",
   "mimetype": "text/x-python",
   "name": "python",
   "nbconvert_exporter": "python",
   "pygments_lexer": "ipython3",
   "version": "3.6.8"
  }
 },
 "nbformat": 4,
 "nbformat_minor": 2
}
